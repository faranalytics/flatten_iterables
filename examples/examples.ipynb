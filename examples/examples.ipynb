{
 "cells": [
  {
   "cell_type": "code",
   "execution_count": 4,
   "metadata": {},
   "outputs": [
    {
     "name": "stdout",
     "output_type": "stream",
     "text": [
      "{\n",
      "  \".dict.a\": 42,\n",
      "  \".nested_dicts.a0.b0\": 42,\n",
      "  \".nested_dicts.a0.b1\": 23,\n",
      "  \".empty_dict\": {},\n",
      "  \".list[0]\": 42,\n",
      "  \".nested_lists[0][0]\": 42,\n",
      "  \".empty_list\": [],\n",
      "  \"[Ellipsis]\": 42\n",
      "}\n"
     ]
    }
   ],
   "source": [
    "import json\n",
    "from flatten_iterables import fi\n",
    "\n",
    "fi.key_style = 'js'\n",
    "\n",
    "data = {\n",
    "    \"dict\": {\"a\": 42},\n",
    "    \"nested_dicts\": {\"a0\": {\"b0\": 42, \"b1\": 23}},\n",
    "    \"empty_dict\": {},\n",
    "    \"list\": [42],\n",
    "    \"nested_lists\": [\n",
    "        [\n",
    "            42,\n",
    "        ],\n",
    "    ],\n",
    "    \"empty_list\": [],\n",
    "    ...: 42,\n",
    "}\n",
    "\n",
    "print(json.dumps(fi.flatten(data), indent=2))"
   ]
  },
  {
   "cell_type": "code",
   "execution_count": 2,
   "metadata": {},
   "outputs": [
    {
     "name": "stdout",
     "output_type": "stream",
     "text": [
      "{\n",
      "  \".set[0]\": 57,\n",
      "  \".set[1]\": 42,\n",
      "  \".set[2]\": 23,\n",
      "  \".ordered_dict.a\": 23,\n",
      "  \".ordered_dict.b\": 42,\n",
      "  \".ordered_dict.c\": 57\n",
      "}\n"
     ]
    }
   ],
   "source": [
    "import json\n",
    "from flatten_iterables import fi\n",
    "from collections import OrderedDict\n",
    "\n",
    "fi.iterables.add(set)\n",
    "fi.mappables.add(OrderedDict)\n",
    "\n",
    "data = {\n",
    "    \"set\": {23, 42, 57},\n",
    "    \"ordered_dict\": OrderedDict(a=23, b=42, c=57),\n",
    "}\n",
    "\n",
    "print(json.dumps(fi.flatten(data), indent=2))"
   ]
  }
 ],
 "metadata": {
  "kernelspec": {
   "display_name": "flatten_iterables",
   "language": "python",
   "name": "python3"
  },
  "language_info": {
   "codemirror_mode": {
    "name": "ipython",
    "version": 3
   },
   "file_extension": ".py",
   "mimetype": "text/x-python",
   "name": "python",
   "nbconvert_exporter": "python",
   "pygments_lexer": "ipython3",
   "version": "3.8.20"
  },
  "orig_nbformat": 4
 },
 "nbformat": 4,
 "nbformat_minor": 2
}
